{
 "cells": [
  {
   "cell_type": "code",
   "execution_count": 1,
   "metadata": {},
   "outputs": [],
   "source": [
    "import numpy as np \n",
    "\n",
    "# Set seed values\n",
    "seed = 42\n",
    "#random.seed = seed\n",
    "np.random.seed(seed=seed)"
   ]
  },
  {
   "cell_type": "markdown",
   "metadata": {},
   "source": [
    "## LOADING DATA FROM S3"
   ]
  },
  {
   "cell_type": "code",
   "execution_count": 2,
   "metadata": {},
   "outputs": [],
   "source": [
    "import boto3\n",
    "\n",
    "_BUCKET_NAME = 'shipping-ml'\n",
    "_PREFIX = 'data/raw/daily/raw/DataGuido/train_image/'\n",
    "_BUFFER = 1000\n",
    "\n",
    "s3 = boto3.resource('s3')\n",
    "my_bucket = s3.Bucket(_BUCKET_NAME)\n",
    "\n",
    "def ListFiles(my_bucket, buffer=_BUFFER):\n",
    "    lista_archivos = []\n",
    "    i = 0\n",
    "    for object_summary in my_bucket.objects.filter(Prefix=\"data/raw/daily/raw/DataGuido/train_image/\"):\n",
    "        lista_archivos.append(object_summary.key)\n",
    "        #print(object_summary.key)\n",
    "        i = i + 1\n",
    "        if i % buffer == 0:\n",
    "            temp = lista_archivos\n",
    "            lista_archivos = []\n",
    "            print('fin ciclo')\n",
    "            i = 0\n",
    "            yield temp\n",
    "                "
   ]
  },
  {
   "cell_type": "code",
   "execution_count": 3,
   "metadata": {},
   "outputs": [
    {
     "name": "stdout",
     "output_type": "stream",
     "text": [
      "fin ciclo\n",
      "Loaded 99 images from S3\n",
      "fin ciclo\n",
      "Loaded 99 images from S3\n"
     ]
    }
   ],
   "source": [
    "import os\n",
    "import glob\n",
    "import numpy as np \n",
    "from PIL import Image\n",
    "\n",
    "train_images = '/home/ec2-user/SageMaker/project/ACDC/train_image/'\n",
    "train_mask   = '/home/ec2-user/SageMaker/project/ACDC/train_mask/'\n",
    "val_images   = '/home/ec2-user/SageMaker/project/ACDC/val_image/'\n",
    "val_mask     = '/home/ec2-user/SageMaker/project/ACDC/val_mask/'\n",
    "s3_train_msk = 'data/raw/daily/raw/DataGuido/train_label/'\n",
    "\n",
    "#recorro S3\n",
    "file_list = ListFiles(my_bucket, 100)\n",
    "X_data = []\n",
    "Y_data = []\n",
    "\n",
    "for lista in file_list:\n",
    "    \n",
    "    files = glob.glob(train_images + '*.tif')\n",
    "    for f in files:\n",
    "        os.remove(f)\n",
    "    files = glob.glob(train_mask + '*.tif')\n",
    "    for f in files:\n",
    "        os.remove(f)\n",
    "\n",
    "        \n",
    "    #guardo 1000 imagenes temporalmente\n",
    "    for i, file in enumerate(lista):\n",
    "        my_bucket.download_file(Key=file, Filename=train_images+'image{}.tif'.format(str(i)))\n",
    "        msk_name = file.split('/')[-1].replace('img_patch', 'msk_patch')\n",
    "        key_msk = s3_train_msk + msk_name\n",
    "        my_bucket.download_file(Key=key_msk, Filename=train_mask+'image{}.tif'.format(str(i)))\n",
    "    print('Loaded {} images from S3'.format(str(i)))\n",
    "        \n",
    "    #levanto las 1000 imagenes en memoria\n",
    "    img_paths = [train_images+ id for id in os.listdir(train_images)]\n",
    "    img_paths.sort()\n",
    "    X_batch = np.array([np.asarray(Image.open(path)) for path in img_paths])\n",
    "    \n",
    "    img_paths = [train_mask + id for id in os.listdir(train_mask)]\n",
    "    img_paths.sort()\n",
    "    Y_batch = np.array([np.asarray(Image.open(path)) for path in img_paths])\n",
    "\n",
    "    if len(X_data) == 0:\n",
    "        X_data = X_batch\n",
    "        Y_data = Y_batch\n",
    "    else:\n",
    "        X_data = np.append(X_data, X_batch, axis=0)\n",
    "        Y_data = np.append(Y_data, Y_batch, axis=0)\n",
    "        break\n",
    "        \n",
    "Y_data = Y_data[:,:,:,np.newaxis]"
   ]
  },
  {
   "cell_type": "code",
   "execution_count": 4,
   "metadata": {},
   "outputs": [],
   "source": [
    "import os\n",
    "\n",
    "img_paths = [val_images + id for id in os.listdir(val_images)]\n",
    "img_paths.sort()\n",
    "X_val = np.array([np.asarray(Image.open(path)) for path in img_paths])\n",
    "\n",
    "img_paths = [val_mask + id for id in os.listdir(val_mask)]\n",
    "img_paths.sort()\n",
    "Y_val = np.array([np.asarray(Image.open(path)) for path in img_paths])\n",
    "Y_val = Y_val[:,:,:,np.newaxis]"
   ]
  },
  {
   "cell_type": "markdown",
   "metadata": {},
   "source": [
    "## ONLINE GENERATORS"
   ]
  },
  {
   "cell_type": "code",
   "execution_count": 5,
   "metadata": {},
   "outputs": [
    {
     "name": "stderr",
     "output_type": "stream",
     "text": [
      "Using TensorFlow backend.\n"
     ]
    }
   ],
   "source": [
    "from keras.preprocessing.image import ImageDataGenerator\n",
    "\n",
    "# Image data generator distortion options\n",
    "data_gen_args = dict(rotation_range=45.,\n",
    "                     width_shift_range=0.1,\n",
    "                     height_shift_range=0.1,\n",
    "                     shear_range=0.2,\n",
    "                     zoom_range=0.2,\n",
    "                     horizontal_flip=True,\n",
    "                     vertical_flip=True,\n",
    "                     fill_mode='reflect')  #use 'constant'??\n",
    "\n",
    "def adjustData(img, mask):\n",
    "    img = img / 255.\n",
    "    mask = mask / 255.\n",
    "    mask[mask > 0.5] = 1\n",
    "    mask[mask <= 0.5] = 0\n",
    "    return (img, mask)\n",
    "\n",
    "# Runtime data augmentation\n",
    "def flow_images(X, Y, batch_size=100, seed=None, data_gen_args=None):\n",
    "        \n",
    "    # Train data, provide the same seed and keyword arguments to the fit and flow methods\n",
    "    if data_gen_args:\n",
    "        X_datagen = ImageDataGenerator(**data_gen_args)\n",
    "        Y_datagen = ImageDataGenerator(**data_gen_args)\n",
    "    else:\n",
    "        X_datagen = ImageDataGenerator()\n",
    "        Y_datagen = ImageDataGenerator()\n",
    "    \n",
    "    X_datagen.fit(X, augment=True, seed=seed)\n",
    "    Y_datagen.fit(Y, augment=True, seed=seed)\n",
    "    X_generator = X_datagen.flow(X, batch_size=batch_size, shuffle=True, seed=seed)\n",
    "    Y_generator = Y_datagen.flow(Y, batch_size=batch_size, shuffle=True, seed=seed)\n",
    "    \n",
    "    # combine generators into one which yields image and masks\n",
    "    generator = zip(X_generator, Y_generator)\n",
    "    \n",
    "    #for (img, mask) in generator:\n",
    "    #    print(img.shape)\n",
    "    #    img, mask = adjustData(img,mask)\n",
    "    return generator\n",
    "\n",
    "\n"
   ]
  }
 ],
 "metadata": {
  "kernelspec": {
   "display_name": "Python 3",
   "language": "python",
   "name": "python3"
  },
  "language_info": {
   "codemirror_mode": {
    "name": "ipython",
    "version": 3
   },
   "file_extension": ".py",
   "mimetype": "text/x-python",
   "name": "python",
   "nbconvert_exporter": "python",
   "pygments_lexer": "ipython3",
   "version": "3.6.5"
  }
 },
 "nbformat": 4,
 "nbformat_minor": 2
}
